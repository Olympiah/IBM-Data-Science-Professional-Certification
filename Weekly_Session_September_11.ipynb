{
  "nbformat": 4,
  "nbformat_minor": 0,
  "metadata": {
    "colab": {
      "provenance": [],
      "include_colab_link": true
    },
    "kernelspec": {
      "name": "python3",
      "display_name": "Python 3"
    },
    "language_info": {
      "name": "python"
    }
  },
  "cells": [
    {
      "cell_type": "markdown",
      "metadata": {
        "id": "view-in-github",
        "colab_type": "text"
      },
      "source": [
        "<a href=\"https://colab.research.google.com/github/Olympiah/IBM-Data-Science-Professional-Certification/blob/master/Weekly_Session_September_11.ipynb\" target=\"_parent\"><img src=\"https://colab.research.google.com/assets/colab-badge.svg\" alt=\"Open In Colab\"/></a>"
      ]
    },
    {
      "cell_type": "markdown",
      "source": [
        "1.   The count values of each gender.\n",
        "2.   The distribution of the user's age.\n",
        "3. The count values of user type.\n",
        "4. The highest two hrs in term of the number of rides. Does it make sense?\n",
        "5. Which day name has the highest number of rides?\n",
        "6. The duration in sec over time.\n",
        "7. The gender that makes the highest number of rides"
      ],
      "metadata": {
        "id": "DNvUkSpsw3Uh"
      }
    },
    {
      "cell_type": "code",
      "execution_count": null,
      "metadata": {
        "id": "tJOnePEawkZt"
      },
      "outputs": [],
      "source": [
        "import pandas as pd\n",
        "import numpy as np\n",
        "import seaborn as sns \n",
        "import matplotlib.pyplot as plt\n",
        "from datetime import date\n",
        "#% matplotlib inline"
      ]
    },
    {
      "cell_type": "code",
      "source": [
        "df = pd.read_csv('/content/201902-fordgobike-tripdata.csv')\n",
        "df.head()"
      ],
      "metadata": {
        "id": "sO3ufk5OxWor"
      },
      "execution_count": null,
      "outputs": []
    },
    {
      "cell_type": "code",
      "source": [
        "gender_count = df['member_gender'].value_counts()\n",
        "gender_order = gender_count.index"
      ],
      "metadata": {
        "id": "nvL6fZb1yZNE"
      },
      "execution_count": null,
      "outputs": []
    },
    {
      "cell_type": "code",
      "source": [
        "base_color = sns.color_palette()[0]\n",
        "sns.countplot(data = df, x=\"member_gender\", hue=\"user_type\", order=gender_order);"
      ],
      "metadata": {
        "colab": {
          "base_uri": "https://localhost:8080/",
          "height": 280
        },
        "id": "djksb1y8zBZ3",
        "outputId": "63034a69-7b46-4351-86b6-1e4df13f831a"
      },
      "execution_count": null,
      "outputs": [
        {
          "output_type": "display_data",
          "data": {
            "text/plain": [
              "<Figure size 432x288 with 1 Axes>"
            ],
            "image/png": "[encoded data removed]"
          },
          "metadata": {
            "needs_background": "light"
          }
        }
      ]
    },
    {
      "cell_type": "code",
      "source": [
        "df['age'] = 2022 - df[\"member_birth_year\"]"
      ],
      "metadata": {
        "id": "olwX9gbOz9XW"
      },
      "execution_count": null,
      "outputs": []
    },
    {
      "cell_type": "code",
      "source": [
        "plt.hist(data=df,x=\"age\",color=base_color);"
      ],
      "metadata": {
        "colab": {
          "base_uri": "https://localhost:8080/",
          "height": 265
        },
        "id": "YF-anpD818mL",
        "outputId": "96d914f7-a82b-406c-b70f-dc06a9b2a54c"
      },
      "execution_count": null,
      "outputs": [
        {
          "output_type": "display_data",
          "data": {
            "text/plain": [
              "<Figure size 432x288 with 1 Axes>"
            ],
            "image/png": "[encoded data removed]"
          },
          "metadata": {
            "needs_background": "light"
          }
        }
      ]
    },
    {
      "cell_type": "code",
      "source": [
        "user_count = df['user_type'].value_counts()\n",
        "user_order = user_count.index\n",
        "sns.countplot(data = df, x=\"user_type\", color=base_color, order=user_order);"
      ],
      "metadata": {
        "colab": {
          "base_uri": "https://localhost:8080/",
          "height": 280
        },
        "id": "fVzrzmqp2OL4",
        "outputId": "ed6357d8-d990-40bd-b0ae-6494ce72174f"
      },
      "execution_count": null,
      "outputs": [
        {
          "output_type": "display_data",
          "data": {
            "text/plain": [
              "<Figure size 432x288 with 1 Axes>"
            ],
            "image/png": "[encoded data removed]"
          },
          "metadata": {
            "needs_background": "light"
          }
        }
      ]
    },
    {
      "cell_type": "code",
      "source": [
        "df['start_time']=pd.to_datetime(df['start_time'])\n",
        "df['Start Day']=df['start_time'].dt.strftime('%A')\n",
        "df[\"Start Hour\"]=df['start_time'].dt.hour "
      ],
      "metadata": {
        "id": "penJZ5sH27RA"
      },
      "execution_count": null,
      "outputs": []
    },
    {
      "cell_type": "code",
      "source": [
        "sns.countplot(data = df, x=\"Start Hour\", color=base_color);"
      ],
      "metadata": {
        "colab": {
          "base_uri": "https://localhost:8080/",
          "height": 279
        },
        "id": "WmxeGIrg3KST",
        "outputId": "102a9354-708d-4079-f0dc-45c3ae3fd042"
      },
      "execution_count": null,
      "outputs": [
        {
          "output_type": "display_data",
          "data": {
            "text/plain": [
              "<Figure size 432x288 with 1 Axes>"
            ],
            "image/png": "[encoded data removed]"
          },
          "metadata": {
            "needs_background": "light"
          }
        }
      ]
    },
    {
      "cell_type": "code",
      "source": [
        "df.head()"
      ],
      "metadata": {
        "colab": {
          "base_uri": "https://localhost:8080/",
          "height": 426
        },
        "id": "DOvrWBBu4gVs",
        "outputId": "4c50b649-adea-499b-f612-a32bae7f64f2"
      },
      "execution_count": null,
      "outputs": [
        {
          "output_type": "execute_result",
          "data": {
            "text/plain": [
              "   duration_sec              start_time                  end_time  \\\n",
              "0         52185 2019-02-28 17:32:10.145  2019-03-01 08:01:55.9750   \n",
              "1         42521 2019-02-28 18:53:21.789  2019-03-01 06:42:03.0560   \n",
              "2         61854 2019-02-28 12:13:13.218  2019-03-01 05:24:08.1460   \n",
              "3         36490 2019-02-28 17:54:26.010  2019-03-01 04:02:36.8420   \n",
              "4          1585 2019-02-28 23:54:18.549  2019-03-01 00:20:44.0740   \n",
              "\n",
              "   start_station_id                                start_station_name  \\\n",
              "0              21.0  Montgomery St BART Station (Market St at 2nd St)   \n",
              "1              23.0                     The Embarcadero at Steuart St   \n",
              "2              86.0                           Market St at Dolores St   \n",
              "3             375.0                           Grove St at Masonic Ave   \n",
              "4               7.0                               Frank H Ogawa Plaza   \n",
              "\n",
              "   start_station_latitude  start_station_longitude  end_station_id  \\\n",
              "0               37.789625              -122.400811            13.0   \n",
              "1               37.791464              -122.391034            81.0   \n",
              "2               37.769305              -122.426826             3.0   \n",
              "3               37.774836              -122.446546            70.0   \n",
              "4               37.804562              -122.271738           222.0   \n",
              "\n",
              "                               end_station_name  end_station_latitude  \\\n",
              "0                Commercial St at Montgomery St             37.794231   \n",
              "1                            Berry St at 4th St             37.775880   \n",
              "2  Powell St BART Station (Market St at 4th St)             37.786375   \n",
              "3                        Central Ave at Fell St             37.773311   \n",
              "4                         10th Ave at E 15th St             37.792714   \n",
              "\n",
              "   end_station_longitude  bike_id   user_type  member_birth_year  \\\n",
              "0            -122.402923     4902    Customer             1984.0   \n",
              "1            -122.393170     2535    Customer                NaN   \n",
              "2            -122.404904     5905    Customer             1972.0   \n",
              "3            -122.444293     6638  Subscriber             1989.0   \n",
              "4            -122.248780     4898  Subscriber             1974.0   \n",
              "\n",
              "  member_gender bike_share_for_all_trip   age Start Day  Start Hour  \n",
              "0          Male                      No  38.0  Thursday          17  \n",
              "1           NaN                      No   NaN  Thursday          18  \n",
              "2          Male                      No  50.0  Thursday          12  \n",
              "3         Other                      No  33.0  Thursday          17  \n",
              "4          Male                     Yes  48.0  Thursday          23  "
            ],
            "text/html": [
              "\n",
              "  <div id=\"df-c12429eb-eed4-4ce7-a9c7-2a002ea4d56a\">\n",
              "    <div class=\"colab-df-container\">\n",
              "      <div>\n",
              "<style scoped>\n",
              "    .dataframe tbody tr th:only-of-type {\n",
              "        vertical-align: middle;\n",
              "    }\n",
              "\n",
              "    .dataframe tbody tr th {\n",
              "        vertical-align: top;\n",
              "    }\n",
              "\n",
              "    .dataframe thead th {\n",
              "        text-align: right;\n",
              "    }\n",
              "</style>\n",
              "<table border=\"1\" class=\"dataframe\">\n",
              "  <thead>\n",
              "    <tr style=\"text-align: right;\">\n",
              "      <th></th>\n",
              "      <th>duration_sec</th>\n",
              "      <th>start_time</th>\n",
              "      <th>end_time</th>\n",
              "      <th>start_station_id</th>\n",
              "      <th>start_station_name</th>\n",
              "      <th>start_station_latitude</th>\n",
              "      <th>start_station_longitude</th>\n",
              "      <th>end_station_id</th>\n",
              "      <th>end_station_name</th>\n",
              "      <th>end_station_latitude</th>\n",
              "      <th>end_station_longitude</th>\n",
              "      <th>bike_id</th>\n",
              "      <th>user_type</th>\n",
              "      <th>member_birth_year</th>\n",
              "      <th>member_gender</th>\n",
              "      <th>bike_share_for_all_trip</th>\n",
              "      <th>age</th>\n",
              "      <th>Start Day</th>\n",
              "      <th>Start Hour</th>\n",
              "    </tr>\n",
              "  </thead>\n",
              "  <tbody>\n",
              "    <tr>\n",
              "      <th>0</th>\n",
              "      <td>52185</td>\n",
              "      <td>2019-02-28 17:32:10.145</td>\n",
              "      <td>2019-03-01 08:01:55.9750</td>\n",
              "      <td>21.0</td>\n",
              "      <td>Montgomery St BART Station (Market St at 2nd St)</td>\n",
              "      <td>37.789625</td>\n",
              "      <td>-122.400811</td>\n",
              "      <td>13.0</td>\n",
              "      <td>Commercial St at Montgomery St</td>\n",
              "      <td>37.794231</td>\n",
              "      <td>-122.402923</td>\n",
              "      <td>4902</td>\n",
              "      <td>Customer</td>\n",
              "      <td>1984.0</td>\n",
              "      <td>Male</td>\n",
              "      <td>No</td>\n",
              "      <td>38.0</td>\n",
              "      <td>Thursday</td>\n",
              "      <td>17</td>\n",
              "    </tr>\n",
              "    <tr>\n",
              "      <th>1</th>\n",
              "      <td>42521</td>\n",
              "      <td>2019-02-28 18:53:21.789</td>\n",
              "      <td>2019-03-01 06:42:03.0560</td>\n",
              "      <td>23.0</td>\n",
              "      <td>The Embarcadero at Steuart St</td>\n",
              "      <td>37.791464</td>\n",
              "      <td>-122.391034</td>\n",
              "      <td>81.0</td>\n",
              "      <td>Berry St at 4th St</td>\n",
              "      <td>37.775880</td>\n",
              "      <td>-122.393170</td>\n",
              "      <td>2535</td>\n",
              "      <td>Customer</td>\n",
              "      <td>NaN</td>\n",
              "      <td>NaN</td>\n",
              "      <td>No</td>\n",
              "      <td>NaN</td>\n",
              "      <td>Thursday</td>\n",
              "      <td>18</td>\n",
              "    </tr>\n",
              "    <tr>\n",
              "      <th>2</th>\n",
              "      <td>61854</td>\n",
              "      <td>2019-02-28 12:13:13.218</td>\n",
              "      <td>2019-03-01 05:24:08.1460</td>\n",
              "      <td>86.0</td>\n",
              "      <td>Market St at Dolores St</td>\n",
              "      <td>37.769305</td>\n",
              "      <td>-122.426826</td>\n",
              "      <td>3.0</td>\n",
              "      <td>Powell St BART Station (Market St at 4th St)</td>\n",
              "      <td>37.786375</td>\n",
              "      <td>-122.404904</td>\n",
              "      <td>5905</td>\n",
              "      <td>Customer</td>\n",
              "      <td>1972.0</td>\n",
              "      <td>Male</td>\n",
              "      <td>No</td>\n",
              "      <td>50.0</td>\n",
              "      <td>Thursday</td>\n",
              "      <td>12</td>\n",
              "    </tr>\n",
              "    <tr>\n",
              "      <th>3</th>\n",
              "      <td>36490</td>\n",
              "      <td>2019-02-28 17:54:26.010</td>\n",
              "      <td>2019-03-01 04:02:36.8420</td>\n",
              "      <td>375.0</td>\n",
              "      <td>Grove St at Masonic Ave</td>\n",
              "      <td>37.774836</td>\n",
              "      <td>-122.446546</td>\n",
              "      <td>70.0</td>\n",
              "      <td>Central Ave at Fell St</td>\n",
              "      <td>37.773311</td>\n",
              "      <td>-122.444293</td>\n",
              "      <td>6638</td>\n",
              "      <td>Subscriber</td>\n",
              "      <td>1989.0</td>\n",
              "      <td>Other</td>\n",
              "      <td>No</td>\n",
              "      <td>33.0</td>\n",
              "      <td>Thursday</td>\n",
              "      <td>17</td>\n",
              "    </tr>\n",
              "    <tr>\n",
              "      <th>4</th>\n",
              "      <td>1585</td>\n",
              "      <td>2019-02-28 23:54:18.549</td>\n",
              "      <td>2019-03-01 00:20:44.0740</td>\n",
              "      <td>7.0</td>\n",
              "      <td>Frank H Ogawa Plaza</td>\n",
              "      <td>37.804562</td>\n",
              "      <td>-122.271738</td>\n",
              "      <td>222.0</td>\n",
              "      <td>10th Ave at E 15th St</td>\n",
              "      <td>37.792714</td>\n",
              "      <td>-122.248780</td>\n",
              "      <td>4898</td>\n",
              "      <td>Subscriber</td>\n",
              "      <td>1974.0</td>\n",
              "      <td>Male</td>\n",
              "      <td>Yes</td>\n",
              "      <td>48.0</td>\n",
              "      <td>Thursday</td>\n",
              "      <td>23</td>\n",
              "    </tr>\n",
              "  </tbody>\n",
              "</table>\n",
              "</div>\n",
              "      <button class=\"colab-df-convert\" onclick=\"convertToInteractive('df-c12429eb-eed4-4ce7-a9c7-2a002ea4d56a')\"\n",
              "              title=\"Convert this dataframe to an interactive table.\"\n",
              "              style=\"display:none;\">\n",
              "        \n",
              "  <svg xmlns=\"http://www.w3.org/2000/svg\" height=\"24px\"viewBox=\"0 0 24 24\"\n",
              "       width=\"24px\">\n",
              "    <path d=\"M0 0h24v24H0V0z\" fill=\"none\"/>\n",
              "    <path d=\"M18.56 5.44l.94 2.06.94-2.06 2.06-.94-2.06-.94-.94-2.06-.94 2.06-2.06.94zm-11 1L8.5 8.5l.94-2.06 2.06-.94-2.06-.94L8.5 2.5l-.94 2.06-2.06.94zm10 10l.94 2.06.94-2.06 2.06-.94-2.06-.94-.94-2.06-.94 2.06-2.06.94z\"/><path d=\"M17.41 7.96l-1.37-1.37c-.4-.4-.92-.59-1.43-.59-.52 0-1.04.2-1.43.59L10.3 9.45l-7.72 7.72c-.78.78-.78 2.05 0 2.83L4 21.41c.39.39.9.59 1.41.59.51 0 1.02-.2 1.41-.59l7.78-7.78 2.81-2.81c.8-.78.8-2.07 0-2.86zM5.41 20L4 18.59l7.72-7.72 1.47 1.35L5.41 20z\"/>\n",
              "  </svg>\n",
              "      </button>\n",
              "      \n",
              "  <style>\n",
              "    .colab-df-container {\n",
              "      display:flex;\n",
              "      flex-wrap:wrap;\n",
              "      gap: 12px;\n",
              "    }\n",
              "\n",
              "    .colab-df-convert {\n",
              "      background-color: #E8F0FE;\n",
              "      border: none;\n",
              "      border-radius: 50%;\n",
              "      cursor: pointer;\n",
              "      display: none;\n",
              "      fill: #1967D2;\n",
              "      height: 32px;\n",
              "      padding: 0 0 0 0;\n",
              "      width: 32px;\n",
              "    }\n",
              "\n",
              "    .colab-df-convert:hover {\n",
              "      background-color: #E2EBFA;\n",
              "      box-shadow: 0px 1px 2px rgba(60, 64, 67, 0.3), 0px 1px 3px 1px rgba(60, 64, 67, 0.15);\n",
              "      fill: #174EA6;\n",
              "    }\n",
              "\n",
              "    [theme=dark] .colab-df-convert {\n",
              "      background-color: #3B4455;\n",
              "      fill: #D2E3FC;\n",
              "    }\n",
              "\n",
              "    [theme=dark] .colab-df-convert:hover {\n",
              "      background-color: #434B5C;\n",
              "      box-shadow: 0px 1px 3px 1px rgba(0, 0, 0, 0.15);\n",
              "      filter: drop-shadow(0px 1px 2px rgba(0, 0, 0, 0.3));\n",
              "      fill: #FFFFFF;\n",
              "    }\n",
              "  </style>\n",
              "\n",
              "      <script>\n",
              "        const buttonEl =\n",
              "          document.querySelector('#df-c12429eb-eed4-4ce7-a9c7-2a002ea4d56a button.colab-df-convert');\n",
              "        buttonEl.style.display =\n",
              "          google.colab.kernel.accessAllowed ? 'block' : 'none';\n",
              "\n",
              "        async function convertToInteractive(key) {\n",
              "          const element = document.querySelector('#df-c12429eb-eed4-4ce7-a9c7-2a002ea4d56a');\n",
              "          const dataTable =\n",
              "            await google.colab.kernel.invokeFunction('convertToInteractive',\n",
              "                                                     [key], {});\n",
              "          if (!dataTable) return;\n",
              "\n",
              "          const docLinkHtml = 'Like what you see? Visit the ' +\n",
              "            '<a target=\"_blank\" href=https://colab.research.google.com/notebooks/data_table.ipynb>data table notebook</a>'\n",
              "            + ' to learn more about interactive tables.';\n",
              "          element.innerHTML = '';\n",
              "          dataTable['output_type'] = 'display_data';\n",
              "          await google.colab.output.renderOutput(dataTable, element);\n",
              "          const docLink = document.createElement('div');\n",
              "          docLink.innerHTML = docLinkHtml;\n",
              "          element.appendChild(docLink);\n",
              "        }\n",
              "      </script>\n",
              "    </div>\n",
              "  </div>\n",
              "  "
            ]
          },
          "metadata": {},
          "execution_count": 35
        }
      ]
    },
    {
      "cell_type": "code",
      "source": [
        "day_count = df['Start Day'].value_counts()\n",
        "day_order = day_count.index\n",
        "sns.countplot(data = df, x=\"Start Day\", color=base_color, order=day_order);"
      ],
      "metadata": {
        "colab": {
          "base_uri": "https://localhost:8080/",
          "height": 279
        },
        "id": "FJ82PHlT5e-E",
        "outputId": "99dfacbf-2289-419d-8af6-e39b803139ed"
      },
      "execution_count": null,
      "outputs": [
        {
          "output_type": "display_data",
          "data": {
            "text/plain": [
              "<Figure size 432x288 with 1 Axes>"
            ],
            "image/png": "[encoded data removed]"
          },
          "metadata": {
            "needs_background": "light"
          }
        }
      ]
    },
    {
      "cell_type": "code",
      "source": [
        "df.describe()\n",
        "\n",
        "#plt.plot()"
      ],
      "metadata": {
        "colab": {
          "base_uri": "https://localhost:8080/",
          "height": 364
        },
        "id": "6oLHBMRi5tdm",
        "outputId": "42f4e779-2a71-458e-e6d4-ca415ac2258a"
      },
      "execution_count": null,
      "outputs": [
        {
          "output_type": "execute_result",
          "data": {
            "text/plain": [
              "        duration_sec  start_station_id  start_station_latitude  \\\n",
              "count  183412.000000     183215.000000           183412.000000   \n",
              "mean      726.078435        138.590427               37.771223   \n",
              "std      1794.389780        111.778864                0.099581   \n",
              "min        61.000000          3.000000               37.317298   \n",
              "25%       325.000000         47.000000               37.770083   \n",
              "50%       514.000000        104.000000               37.780760   \n",
              "75%       796.000000        239.000000               37.797280   \n",
              "max     85444.000000        398.000000               37.880222   \n",
              "\n",
              "       start_station_longitude  end_station_id  end_station_latitude  \\\n",
              "count            183412.000000   183215.000000         183412.000000   \n",
              "mean               -122.352664      136.249123             37.771427   \n",
              "std                   0.117097      111.515131              0.099490   \n",
              "min                -122.453704        3.000000             37.317298   \n",
              "25%                -122.412408       44.000000             37.770407   \n",
              "50%                -122.398285      100.000000             37.781010   \n",
              "75%                -122.286533      235.000000             37.797320   \n",
              "max                -121.874119      398.000000             37.880222   \n",
              "\n",
              "       end_station_longitude        bike_id  member_birth_year            age  \\\n",
              "count          183412.000000  183412.000000      175147.000000  175147.000000   \n",
              "mean             -122.352250    4472.906375        1984.806437      37.193563   \n",
              "std                 0.116673    1664.383394          10.116689      10.116689   \n",
              "min              -122.453704      11.000000        1878.000000      21.000000   \n",
              "25%              -122.411726    3777.000000        1980.000000      30.000000   \n",
              "50%              -122.398279    4958.000000        1987.000000      35.000000   \n",
              "75%              -122.288045    5502.000000        1992.000000      42.000000   \n",
              "max              -121.874119    6645.000000        2001.000000     144.000000   \n",
              "\n",
              "          Start Hour  \n",
              "count  183412.000000  \n",
              "mean       13.458421  \n",
              "std         4.724978  \n",
              "min         0.000000  \n",
              "25%         9.000000  \n",
              "50%        14.000000  \n",
              "75%        17.000000  \n",
              "max        23.000000  "
            ],
            "text/html": [
              "\n",
              "  <div id=\"df-e62b1580-764e-498b-ba18-3c61bd93945f\">\n",
              "    <div class=\"colab-df-container\">\n",
              "      <div>\n",
              "<style scoped>\n",
              "    .dataframe tbody tr th:only-of-type {\n",
              "        vertical-align: middle;\n",
              "    }\n",
              "\n",
              "    .dataframe tbody tr th {\n",
              "        vertical-align: top;\n",
              "    }\n",
              "\n",
              "    .dataframe thead th {\n",
              "        text-align: right;\n",
              "    }\n",
              "</style>\n",
              "<table border=\"1\" class=\"dataframe\">\n",
              "  <thead>\n",
              "    <tr style=\"text-align: right;\">\n",
              "      <th></th>\n",
              "      <th>duration_sec</th>\n",
              "      <th>start_station_id</th>\n",
              "      <th>start_station_latitude</th>\n",
              "      <th>start_station_longitude</th>\n",
              "      <th>end_station_id</th>\n",
              "      <th>end_station_latitude</th>\n",
              "      <th>end_station_longitude</th>\n",
              "      <th>bike_id</th>\n",
              "      <th>member_birth_year</th>\n",
              "      <th>age</th>\n",
              "      <th>Start Hour</th>\n",
              "    </tr>\n",
              "  </thead>\n",
              "  <tbody>\n",
              "    <tr>\n",
              "      <th>count</th>\n",
              "      <td>183412.000000</td>\n",
              "      <td>183215.000000</td>\n",
              "      <td>183412.000000</td>\n",
              "      <td>183412.000000</td>\n",
              "      <td>183215.000000</td>\n",
              "      <td>183412.000000</td>\n",
              "      <td>183412.000000</td>\n",
              "      <td>183412.000000</td>\n",
              "      <td>175147.000000</td>\n",
              "      <td>175147.000000</td>\n",
              "      <td>183412.000000</td>\n",
              "    </tr>\n",
              "    <tr>\n",
              "      <th>mean</th>\n",
              "      <td>726.078435</td>\n",
              "      <td>138.590427</td>\n",
              "      <td>37.771223</td>\n",
              "      <td>-122.352664</td>\n",
              "      <td>136.249123</td>\n",
              "      <td>37.771427</td>\n",
              "      <td>-122.352250</td>\n",
              "      <td>4472.906375</td>\n",
              "      <td>1984.806437</td>\n",
              "      <td>37.193563</td>\n",
              "      <td>13.458421</td>\n",
              "    </tr>\n",
              "    <tr>\n",
              "      <th>std</th>\n",
              "      <td>1794.389780</td>\n",
              "      <td>111.778864</td>\n",
              "      <td>0.099581</td>\n",
              "      <td>0.117097</td>\n",
              "      <td>111.515131</td>\n",
              "      <td>0.099490</td>\n",
              "      <td>0.116673</td>\n",
              "      <td>1664.383394</td>\n",
              "      <td>10.116689</td>\n",
              "      <td>10.116689</td>\n",
              "      <td>4.724978</td>\n",
              "    </tr>\n",
              "    <tr>\n",
              "      <th>min</th>\n",
              "      <td>61.000000</td>\n",
              "      <td>3.000000</td>\n",
              "      <td>37.317298</td>\n",
              "      <td>-122.453704</td>\n",
              "      <td>3.000000</td>\n",
              "      <td>37.317298</td>\n",
              "      <td>-122.453704</td>\n",
              "      <td>11.000000</td>\n",
              "      <td>1878.000000</td>\n",
              "      <td>21.000000</td>\n",
              "      <td>0.000000</td>\n",
              "    </tr>\n",
              "    <tr>\n",
              "      <th>25%</th>\n",
              "      <td>325.000000</td>\n",
              "      <td>47.000000</td>\n",
              "      <td>37.770083</td>\n",
              "      <td>-122.412408</td>\n",
              "      <td>44.000000</td>\n",
              "      <td>37.770407</td>\n",
              "      <td>-122.411726</td>\n",
              "      <td>3777.000000</td>\n",
              "      <td>1980.000000</td>\n",
              "      <td>30.000000</td>\n",
              "      <td>9.000000</td>\n",
              "    </tr>\n",
              "    <tr>\n",
              "      <th>50%</th>\n",
              "      <td>514.000000</td>\n",
              "      <td>104.000000</td>\n",
              "      <td>37.780760</td>\n",
              "      <td>-122.398285</td>\n",
              "      <td>100.000000</td>\n",
              "      <td>37.781010</td>\n",
              "      <td>-122.398279</td>\n",
              "      <td>4958.000000</td>\n",
              "      <td>1987.000000</td>\n",
              "      <td>35.000000</td>\n",
              "      <td>14.000000</td>\n",
              "    </tr>\n",
              "    <tr>\n",
              "      <th>75%</th>\n",
              "      <td>796.000000</td>\n",
              "      <td>239.000000</td>\n",
              "      <td>37.797280</td>\n",
              "      <td>-122.286533</td>\n",
              "      <td>235.000000</td>\n",
              "      <td>37.797320</td>\n",
              "      <td>-122.288045</td>\n",
              "      <td>5502.000000</td>\n",
              "      <td>1992.000000</td>\n",
              "      <td>42.000000</td>\n",
              "      <td>17.000000</td>\n",
              "    </tr>\n",
              "    <tr>\n",
              "      <th>max</th>\n",
              "      <td>85444.000000</td>\n",
              "      <td>398.000000</td>\n",
              "      <td>37.880222</td>\n",
              "      <td>-121.874119</td>\n",
              "      <td>398.000000</td>\n",
              "      <td>37.880222</td>\n",
              "      <td>-121.874119</td>\n",
              "      <td>6645.000000</td>\n",
              "      <td>2001.000000</td>\n",
              "      <td>144.000000</td>\n",
              "      <td>23.000000</td>\n",
              "    </tr>\n",
              "  </tbody>\n",
              "</table>\n",
              "</div>\n",
              "      <button class=\"colab-df-convert\" onclick=\"convertToInteractive('df-e62b1580-764e-498b-ba18-3c61bd93945f')\"\n",
              "              title=\"Convert this dataframe to an interactive table.\"\n",
              "              style=\"display:none;\">\n",
              "        \n",
              "  <svg xmlns=\"http://www.w3.org/2000/svg\" height=\"24px\"viewBox=\"0 0 24 24\"\n",
              "       width=\"24px\">\n",
              "    <path d=\"M0 0h24v24H0V0z\" fill=\"none\"/>\n",
              "    <path d=\"M18.56 5.44l.94 2.06.94-2.06 2.06-.94-2.06-.94-.94-2.06-.94 2.06-2.06.94zm-11 1L8.5 8.5l.94-2.06 2.06-.94-2.06-.94L8.5 2.5l-.94 2.06-2.06.94zm10 10l.94 2.06.94-2.06 2.06-.94-2.06-.94-.94-2.06-.94 2.06-2.06.94z\"/><path d=\"M17.41 7.96l-1.37-1.37c-.4-.4-.92-.59-1.43-.59-.52 0-1.04.2-1.43.59L10.3 9.45l-7.72 7.72c-.78.78-.78 2.05 0 2.83L4 21.41c.39.39.9.59 1.41.59.51 0 1.02-.2 1.41-.59l7.78-7.78 2.81-2.81c.8-.78.8-2.07 0-2.86zM5.41 20L4 18.59l7.72-7.72 1.47 1.35L5.41 20z\"/>\n",
              "  </svg>\n",
              "      </button>\n",
              "      \n",
              "  <style>\n",
              "    .colab-df-container {\n",
              "      display:flex;\n",
              "      flex-wrap:wrap;\n",
              "      gap: 12px;\n",
              "    }\n",
              "\n",
              "    .colab-df-convert {\n",
              "      background-color: #E8F0FE;\n",
              "      border: none;\n",
              "      border-radius: 50%;\n",
              "      cursor: pointer;\n",
              "      display: none;\n",
              "      fill: #1967D2;\n",
              "      height: 32px;\n",
              "      padding: 0 0 0 0;\n",
              "      width: 32px;\n",
              "    }\n",
              "\n",
              "    .colab-df-convert:hover {\n",
              "      background-color: #E2EBFA;\n",
              "      box-shadow: 0px 1px 2px rgba(60, 64, 67, 0.3), 0px 1px 3px 1px rgba(60, 64, 67, 0.15);\n",
              "      fill: #174EA6;\n",
              "    }\n",
              "\n",
              "    [theme=dark] .colab-df-convert {\n",
              "      background-color: #3B4455;\n",
              "      fill: #D2E3FC;\n",
              "    }\n",
              "\n",
              "    [theme=dark] .colab-df-convert:hover {\n",
              "      background-color: #434B5C;\n",
              "      box-shadow: 0px 1px 3px 1px rgba(0, 0, 0, 0.15);\n",
              "      filter: drop-shadow(0px 1px 2px rgba(0, 0, 0, 0.3));\n",
              "      fill: #FFFFFF;\n",
              "    }\n",
              "  </style>\n",
              "\n",
              "      <script>\n",
              "        const buttonEl =\n",
              "          document.querySelector('#df-e62b1580-764e-498b-ba18-3c61bd93945f button.colab-df-convert');\n",
              "        buttonEl.style.display =\n",
              "          google.colab.kernel.accessAllowed ? 'block' : 'none';\n",
              "\n",
              "        async function convertToInteractive(key) {\n",
              "          const element = document.querySelector('#df-e62b1580-764e-498b-ba18-3c61bd93945f');\n",
              "          const dataTable =\n",
              "            await google.colab.kernel.invokeFunction('convertToInteractive',\n",
              "                                                     [key], {});\n",
              "          if (!dataTable) return;\n",
              "\n",
              "          const docLinkHtml = 'Like what you see? Visit the ' +\n",
              "            '<a target=\"_blank\" href=https://colab.research.google.com/notebooks/data_table.ipynb>data table notebook</a>'\n",
              "            + ' to learn more about interactive tables.';\n",
              "          element.innerHTML = '';\n",
              "          dataTable['output_type'] = 'display_data';\n",
              "          await google.colab.output.renderOutput(dataTable, element);\n",
              "          const docLink = document.createElement('div');\n",
              "          docLink.innerHTML = docLinkHtml;\n",
              "          element.appendChild(docLink);\n",
              "        }\n",
              "      </script>\n",
              "    </div>\n",
              "  </div>\n",
              "  "
            ]
          },
          "metadata": {},
          "execution_count": 38
        }
      ]
    },
    {
      "cell_type": "code",
      "source": [
        "plt.figure(figsize=[ 11.69, 8.27])\n",
        "sns.lineplot(df['Start Hour'],df['duration_sec']);\n",
        "plt.xlim((0,23));"
      ],
      "metadata": {
        "colab": {
          "base_uri": "https://localhost:8080/",
          "height": 566
        },
        "id": "tRF7Rtxm7Hrm",
        "outputId": "b635f31c-59bd-4d40-be72-1832c864cf9e"
      },
      "execution_count": null,
      "outputs": [
        {
          "output_type": "stream",
          "name": "stderr",
          "text": [
            "/usr/local/lib/python3.7/dist-packages/seaborn/_decorators.py:43: FutureWarning: Pass the following variables as keyword args: x, y. From version 0.12, the only valid positional argument will be `data`, and passing other arguments without an explicit keyword will result in an error or misinterpretation.\n",
            "  FutureWarning\n"
          ]
        },
        {
          "output_type": "display_data",
          "data": {
            "text/plain": [
              "<Figure size 841.68x595.44 with 1 Axes>"
            ],
            "image/png": "[encoded data removed]"
          },
          "metadata": {
            "needs_background": "light"
          }
        }
      ]
    },
    {
      "cell_type": "code",
      "source": [
        "count = df.groupby([\"member_gender\", \"user_type\"]).size()"
      ],
      "metadata": {
        "id": "aSsL0QCB7w-F"
      },
      "execution_count": null,
      "outputs": []
    },
    {
      "cell_type": "code",
      "source": [
        "count = count.reset_index(name = \"count\")"
      ],
      "metadata": {
        "id": "8b1mLv8R8ZyD"
      },
      "execution_count": null,
      "outputs": []
    },
    {
      "cell_type": "code",
      "source": [
        "count = count.pivot(index = \"member_gender\", columns = \"user_type\", values = \"count\")"
      ],
      "metadata": {
        "id": "jgzJYY028mpi"
      },
      "execution_count": null,
      "outputs": []
    },
    {
      "cell_type": "code",
      "source": [
        "sns.heatmap(count, annot = True, fmt = \"d\");"
      ],
      "metadata": {
        "colab": {
          "base_uri": "https://localhost:8080/",
          "height": 280
        },
        "id": "fwtbMaYR87bB",
        "outputId": "41681705-921a-429d-c21e-26f46df1a0e5"
      },
      "execution_count": null,
      "outputs": [
        {
          "output_type": "display_data",
          "data": {
            "text/plain": [
              "<Figure size 432x288 with 2 Axes>"
            ],
            "image/png": "[encoded data removed]"
          },
          "metadata": {
            "needs_background": "light"
          }
        }
      ]
    }
  ]
}